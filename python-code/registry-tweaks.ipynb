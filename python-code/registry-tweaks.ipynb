{
 "cells": [
  {
   "cell_type": "code",
   "execution_count": 2,
   "id": "5290d0f1",
   "metadata": {},
   "outputs": [],
   "source": [
    "import winreg"
   ]
  },
  {
   "cell_type": "code",
   "execution_count": 3,
   "id": "76b5e3ba",
   "metadata": {},
   "outputs": [],
   "source": [
    "#connecting to key in registry\n",
    "HKLM = winreg.ConnectRegistry(None, winreg.HKEY_LOCAL_MACHINE)\n",
    "HKCU = winreg.ConnectRegistry(None, winreg.HKEY_CURRENT_USER)\n",
    "HCLR = winreg.ConnectRegistry(None, winreg.HKEY_CLASSES_ROOT)\n"
   ]
  },
  {
   "cell_type": "code",
   "execution_count": 4,
   "id": "627972ea",
   "metadata": {},
   "outputs": [],
   "source": [
    "#edit/modify registry\n",
    "def save_reg(path, subpath, k, type, v = None):  # path, key, value\n",
    "    try:\n",
    "        with winreg.OpenKey(path, subpath, access=winreg.KEY_WRITE) as key:\n",
    "            winreg.SetValueEx(key, k, 0, type, v)\n",
    "        return True\n",
    "    except Exception as e:\n",
    "        print(e)\n",
    "        return False\n"
   ]
  },
  {
   "cell_type": "code",
   "execution_count": 5,
   "id": "be7974c7",
   "metadata": {},
   "outputs": [],
   "source": [
    "##create registry key\n",
    "# key = reg.CreateKey(reg.HKEY_CURRENT_USER, 'SOFTWARE\\\\Classes\\\\nzblnk')"
   ]
  },
  {
   "cell_type": "code",
   "execution_count": 6,
   "id": "f70f8c18",
   "metadata": {},
   "outputs": [],
   "source": [
    "def read_reg(path, subpath, k):  # path, key\n",
    "    try:\n",
    "        with winreg.OpenKeyEx(path, subpath) as key:\n",
    "            value = winreg.QueryValueEx(key,k)\n",
    "        return value[0]\n",
    "    except Exception as e:\n",
    "        print(e)\n",
    "        return None\n"
   ]
  },
  {
   "cell_type": "markdown",
   "id": "919262a5",
   "metadata": {},
   "source": [
    "## Network Speed Tweaks"
   ]
  },
  {
   "cell_type": "code",
   "execution_count": 8,
   "id": "140ae7d8",
   "metadata": {},
   "outputs": [
    {
     "data": {
      "text/plain": [
       "65534"
      ]
     },
     "execution_count": 8,
     "metadata": {},
     "output_type": "execute_result"
    }
   ],
   "source": [
    "read_reg(HKLM, r\"SYSTEM\\\\CurrentControlSet\\\\Services\\\\Tcpip\\\\Parameters\", \"MaxUserPort\")\n"
   ]
  },
  {
   "cell_type": "code",
   "execution_count": 9,
   "id": "a19fc4fa",
   "metadata": {},
   "outputs": [
    {
     "data": {
      "text/plain": [
       "True"
      ]
     },
     "execution_count": 9,
     "metadata": {},
     "output_type": "execute_result"
    }
   ],
   "source": [
    "'''\n",
    "Reference: https://docs.microsoft.com/en-us/biztalk/technical-guides/settings-that-can-be-modified-to-improve-network-performance\n",
    "The MaxUserPort value controls the maximum port number used when an application requests any available user port from \n",
    "the system. Normally, short-lived ports are allocated in the range from 1025 through 65535. \n",
    "'''\n",
    "## MaxUserPort --> 65534 (dword:0000fffe)\n",
    "save_reg(HKLM, r\"SYSTEM\\\\CurrentControlSet\\\\Services\\\\Tcpip\\\\Parameters\", \"MaxUserPort\", winreg.REG_DWORD, 65534)\n"
   ]
  },
  {
   "cell_type": "code",
   "execution_count": 21,
   "id": "5e96a0c4",
   "metadata": {},
   "outputs": [
    {
     "name": "stdout",
     "output_type": "stream",
     "text": [
      "[WinError 2] The system cannot find the file specified\n"
     ]
    }
   ],
   "source": [
    "read_reg(HKLM, r\"SYSTEM\\\\CurrentControlSet\\\\Services\\\\Tcpip\\\\Parameters\", \"Tcp1323Opts\")\n"
   ]
  },
  {
   "cell_type": "code",
   "execution_count": 22,
   "id": "4f7ecea9",
   "metadata": {},
   "outputs": [
    {
     "data": {
      "text/plain": [
       "True"
      ]
     },
     "execution_count": 22,
     "metadata": {},
     "output_type": "execute_result"
    }
   ],
   "source": [
    "'''\n",
    "Reference: https://www.maketecheasier.com/3-ways-to-increase-network-speed-via-registry-editor-windows/\n",
    "You should see TCP1323Opts as a “DWORD” value on the right side of the registry editor. \n",
    "    (Create it if not.) Right-click it and modify this value to “1.”\n",
    "'''\n",
    "## Tcp1323Opts --> 1 (dword:0000001)\n",
    "save_reg(HKLM, r\"SYSTEM\\\\CurrentControlSet\\\\Services\\\\Tcpip\\\\Parameters\", \"Tcp1323Opts\", winreg.REG_DWORD, 1)\n"
   ]
  },
  {
   "cell_type": "code",
   "execution_count": 23,
   "id": "b910761e",
   "metadata": {},
   "outputs": [
    {
     "name": "stdout",
     "output_type": "stream",
     "text": [
      "[WinError 2] The system cannot find the file specified\n"
     ]
    }
   ],
   "source": [
    "read_reg(HKLM, r\"SYSTEM\\\\CurrentControlSet\\\\Services\\\\Tcpip\\\\Parameters\", \"MaxFreeTcbs\")\n"
   ]
  },
  {
   "cell_type": "code",
   "execution_count": 24,
   "id": "db982bdb",
   "metadata": {},
   "outputs": [
    {
     "data": {
      "text/plain": [
       "True"
      ]
     },
     "execution_count": 24,
     "metadata": {},
     "output_type": "execute_result"
    }
   ],
   "source": [
    "'''\n",
    "Reference: https://www.maketecheasier.com/3-ways-to-increase-network-speed-via-registry-editor-windows/\n",
    "Create or edit “MaxFreeTcbs” and place its value at 65536. \n",
    "    If you’re using an older computer with lower-performance hardware, you can set this at a lower number, like 16000.\n",
    "'''\n",
    "## MaxFreeTcbs --> 65536 (dword:0000ffff)\n",
    "save_reg(HKLM, r\"SYSTEM\\\\CurrentControlSet\\\\Services\\\\Tcpip\\\\Parameters\", \"MaxFreeTcbs\", winreg.REG_DWORD, 65536)\n"
   ]
  },
  {
   "cell_type": "code",
   "execution_count": 10,
   "id": "14465112",
   "metadata": {},
   "outputs": [
    {
     "data": {
      "text/plain": [
       "50"
      ]
     },
     "execution_count": 10,
     "metadata": {},
     "output_type": "execute_result"
    }
   ],
   "source": [
    "read_reg(HKLM, r\"SYSTEM\\\\CurrentControlSet\\\\Services\\\\Tcpip\\\\Parameters\", \"TcpTimedWaitDelay\")\n"
   ]
  },
  {
   "cell_type": "code",
   "execution_count": 11,
   "id": "6c903bb1",
   "metadata": {},
   "outputs": [
    {
     "data": {
      "text/plain": [
       "True"
      ]
     },
     "execution_count": 11,
     "metadata": {},
     "output_type": "execute_result"
    }
   ],
   "source": [
    "'''\n",
    "Reference: https://docs.microsoft.com/en-us/biztalk/technical-guides/settings-that-can-be-modified-to-improve-network-performance\n",
    "The TcpTimedWaitDelay value determines the length of time that a connection stays in the TIME_WAIT state when being closed. \n",
    "    While a connection is in the TIME_WAIT state, the socket pair cannot be reused. \n",
    "'''\n",
    "## TcpTimedWaitDelay --> 50 (dword:00000032)\n",
    "save_reg(HKLM, r\"SYSTEM\\\\CurrentControlSet\\\\Services\\\\Tcpip\\\\Parameters\", \"TcpTimedWaitDelay\", winreg.REG_DWORD, 30)\n"
   ]
  },
  {
   "cell_type": "code",
   "execution_count": 14,
   "id": "40b22303",
   "metadata": {},
   "outputs": [
    {
     "data": {
      "text/plain": [
       "2000"
      ]
     },
     "execution_count": 14,
     "metadata": {},
     "output_type": "execute_result"
    }
   ],
   "source": [
    "read_reg(HKLM, r\"SYSTEM\\\\CurrentControlSet\\\\Control\", \"WaitToKillServiceTimeout\")\n"
   ]
  },
  {
   "cell_type": "code",
   "execution_count": 15,
   "id": "fa410319",
   "metadata": {},
   "outputs": [
    {
     "data": {
      "text/plain": [
       "True"
      ]
     },
     "execution_count": 15,
     "metadata": {},
     "output_type": "execute_result"
    }
   ],
   "source": [
    "'''\n",
    "Reference: https://www.makeuseof.com/tag/5-windows-10-registry-tweaks-improve-unlock-features/\n",
    "The lower you set the value, the lesser it will wait to kill services and make the shutdown process quicker.\n",
    "'''\n",
    "## WaitToKillServiceTimeout --> 500 (dword:000001f4)\n",
    "save_reg(HKLM, r\"SYSTEM\\\\CurrentControlSet\\\\Control\", \"WaitToKillServiceTimeout\", winreg.REG_DWORD, 500)\n"
   ]
  },
  {
   "cell_type": "code",
   "execution_count": 17,
   "id": "888de4f2",
   "metadata": {},
   "outputs": [
    {
     "data": {
      "text/plain": [
       "20"
      ]
     },
     "execution_count": 17,
     "metadata": {},
     "output_type": "execute_result"
    }
   ],
   "source": [
    "read_reg(HKLM, r\"SYSTEM\\\\CurrentControlSet\\\\Services\\\\LanmanServer\\\\Parameters\", \"IRPStackSize\")\n"
   ]
  },
  {
   "cell_type": "code",
   "execution_count": 18,
   "id": "4c9c5607",
   "metadata": {},
   "outputs": [
    {
     "data": {
      "text/plain": [
       "True"
      ]
     },
     "execution_count": 18,
     "metadata": {},
     "output_type": "execute_result"
    }
   ],
   "source": [
    "'''\n",
    "Reference: https://www.maketecheasier.com/3-ways-to-increase-network-speed-via-registry-editor-windows/\n",
    "Your system usually allocates 15 IRPs in its network stack. More often than not, you’d benefit much more with 32, although you can \n",
    "    configure up to 50. Try 32 first.\n",
    "'''\n",
    "## IRPStackSize --> 50 (dword:00000014)\n",
    "save_reg(HKLM, r\"SYSTEM\\\\CurrentControlSet\\\\Services\\\\LanmanServer\\\\Parameters\", \"IRPStackSize\", winreg.REG_DWORD, 32)\n"
   ]
  },
  {
   "cell_type": "code",
   "execution_count": 19,
   "id": "4ed595ef",
   "metadata": {},
   "outputs": [
    {
     "name": "stdout",
     "output_type": "stream",
     "text": [
      "[WinError 2] The system cannot find the file specified\n"
     ]
    }
   ],
   "source": [
    "read_reg(HKLM, r\"SYSTEM\\\\CurrentControlSet\\\\Services\\\\LanmanServer\\\\Parameters\", \"SizReqBuf\")\n"
   ]
  },
  {
   "cell_type": "code",
   "execution_count": 20,
   "id": "f054256a",
   "metadata": {},
   "outputs": [
    {
     "data": {
      "text/plain": [
       "True"
      ]
     },
     "execution_count": 20,
     "metadata": {},
     "output_type": "execute_result"
    }
   ],
   "source": [
    "'''\n",
    "Reference: https://www.maketecheasier.com/3-ways-to-increase-network-speed-via-registry-editor-windows/\n",
    "Add “SizReqBuf” as a DWORD value on the right side of the regedit window. If you have a server with \n",
    "    over 512 MB of physical memory, modify the value to 17424. \n",
    "'''\n",
    "## IrpStackSize --> 50 (dword:00000014)\n",
    "save_reg(HKLM, r\"SYSTEM\\\\CurrentControlSet\\\\Services\\\\LanmanServer\\\\Parameters\", \"SizReqBuf\", winreg.REG_DWORD, 17424)\n"
   ]
  },
  {
   "cell_type": "code",
   "execution_count": 19,
   "id": "9e3db70c",
   "metadata": {},
   "outputs": [
    {
     "name": "stdout",
     "output_type": "stream",
     "text": [
      "[WinError 2] The system cannot find the file specified\n"
     ]
    }
   ],
   "source": [
    "read_reg(HKLM, r\"SYSTEM\\\\CurrentControlSet\\\\Services\\\\LanmanServer\\\\Parameters\", \"SizReqBuf\")\n"
   ]
  },
  {
   "cell_type": "code",
   "execution_count": 20,
   "id": "bf6e8f69",
   "metadata": {},
   "outputs": [
    {
     "data": {
      "text/plain": [
       "True"
      ]
     },
     "execution_count": 20,
     "metadata": {},
     "output_type": "execute_result"
    }
   ],
   "source": [
    "'''\n",
    "Reference: https://www.maketecheasier.com/3-ways-to-increase-network-speed-via-registry-editor-windows/\n",
    "Add “SizReqBuf” as a DWORD value on the right side of the regedit window. If you have a server with \n",
    "    over 512 MB of physical memory, modify the value to 17424. \n",
    "'''\n",
    "## IrpStackSize --> 50 (dword:00000014)\n",
    "save_reg(HKLM, r\"SYSTEM\\\\CurrentControlSet\\\\Services\\\\LanmanServer\\\\Parameters\", \"SizReqBuf\", winreg.REG_DWORD, 17424)\n"
   ]
  },
  {
   "cell_type": "code",
   "execution_count": 27,
   "id": "ffcadced",
   "metadata": {},
   "outputs": [],
   "source": [
    "## Create-Registry-Keys\n",
    "try:\n",
    "    winreg.CreateKey(HKCU, r\"SOFTWARE\\\\Microsoft\\\\Windows\\\\CurrentVersion\\\\Explorer\\\\Serialize\")\n",
    "except Exception as e:\n",
    "    print(e)"
   ]
  },
  {
   "cell_type": "code",
   "execution_count": 28,
   "id": "3af80055",
   "metadata": {},
   "outputs": [
    {
     "data": {
      "text/plain": [
       "True"
      ]
     },
     "execution_count": 28,
     "metadata": {},
     "output_type": "execute_result"
    }
   ],
   "source": [
    "'''\n",
    "Reference: https://www.maketecheasier.com/disable-startup-delay-in-windows/\n",
    "Add “SizReqBuf” as a DWORD value on the right side of the regedit window. If you have a server with \n",
    "    over 512 MB of physical memory, modify the value to 17424. \n",
    "'''\n",
    "## IrpStackSize --> 50 (dword:00000014)\n",
    "save_reg(HKCU, r\"SOFTWARE\\\\Microsoft\\\\Windows\\\\CurrentVersion\\\\Explorer\\\\Serialize\", \"StartupDelayInMSec\", winreg.REG_DWORD, 0)\n"
   ]
  },
  {
   "cell_type": "code",
   "execution_count": 52,
   "id": "fdd1c8b2",
   "metadata": {},
   "outputs": [
    {
     "name": "stdout",
     "output_type": "stream",
     "text": [
      "[WinError 2] The system cannot find the file specified\n"
     ]
    }
   ],
   "source": [
    "read_reg(HKCU, r\"Control Panel\\\\Desktop\", \"AutoEndTasks\")\n"
   ]
  },
  {
   "cell_type": "code",
   "execution_count": 53,
   "id": "b80e3f80",
   "metadata": {},
   "outputs": [
    {
     "data": {
      "text/plain": [
       "True"
      ]
     },
     "execution_count": 53,
     "metadata": {},
     "output_type": "execute_result"
    }
   ],
   "source": [
    "## AutoEndTasks --> 1 (dword:00000001)\n",
    "save_reg(HKCU, r\"Control Panel\\\\Desktop\", \"AutoEndTasks\", winreg.REG_DWORD, 1)\n"
   ]
  },
  {
   "cell_type": "markdown",
   "id": "d0870c3b",
   "metadata": {},
   "source": [
    "## Context Menus"
   ]
  },
  {
   "cell_type": "code",
   "execution_count": 31,
   "id": "51b78118",
   "metadata": {},
   "outputs": [],
   "source": [
    "## Create-Registry-Keys\n",
    "try:\n",
    "    key = winreg.CreateKey(HCLR, r\"Allfilesystemobjects\\\\shell\\\\windows.copyaspath\")\n",
    "except Exception as e:\n",
    "    print(e)"
   ]
  },
  {
   "cell_type": "code",
   "execution_count": 36,
   "id": "a5514e24",
   "metadata": {},
   "outputs": [
    {
     "data": {
      "text/plain": [
       "True"
      ]
     },
     "execution_count": 36,
     "metadata": {},
     "output_type": "execute_result"
    }
   ],
   "source": [
    "'''\n",
    "Reference: https://www.maketecheasier.com/disable-startup-delay-in-windows/\n",
    "Add “SizReqBuf” as a DWORD value on the right side of the regedit window. If you have a server with \n",
    "    over 512 MB of physical memory, modify the value to 17424. \n",
    "'''\n",
    "## right-click: Copy as path\n",
    "save_reg(HCLR, r\"Allfilesystemobjects\\\\shell\\\\windows.copyaspath\", \"\", winreg.REG_SZ, \"Copy &as path\")\n",
    "save_reg(HCLR, r\"Allfilesystemobjects\\\\shell\\\\windows.copyaspath\", \"Icon\", winreg.REG_SZ, \"imageres.dll,-5302\")\n",
    "save_reg(HCLR, r\"Allfilesystemobjects\\\\shell\\\\windows.copyaspath\", \"InvokeCommandOnSelection\", winreg.REG_DWORD, 1)\n",
    "save_reg(HCLR, r\"Allfilesystemobjects\\\\shell\\\\windows.copyaspath\", \"VerbHandler\", winreg.REG_SZ, \"{f3d06e7c-1e45-4a26-847e-f9fcdee59be0}\")\n",
    "save_reg(HCLR, r\"Allfilesystemobjects\\\\shell\\\\windows.copyaspath\", \"VerbName\", winreg.REG_SZ, \"copyaspath\")\n"
   ]
  },
  {
   "cell_type": "code",
   "execution_count": 37,
   "id": "3429daff",
   "metadata": {},
   "outputs": [],
   "source": [
    "## Create-Registry-Keys\n",
    "try:\n",
    "    key = winreg.CreateKey(HCLR, r\"Allfilesystemobjects\\\\shellex\\\\ContextMenuHandlers\\\\CopyToFolder\")\n",
    "except Exception as e:\n",
    "    print(e)"
   ]
  },
  {
   "cell_type": "code",
   "execution_count": 49,
   "id": "e95a51b0",
   "metadata": {},
   "outputs": [
    {
     "data": {
      "text/plain": [
       "True"
      ]
     },
     "execution_count": 49,
     "metadata": {},
     "output_type": "execute_result"
    }
   ],
   "source": [
    "## right-click: Copy to Folder\n",
    "save_reg(HCLR, r\"Allfilesystemobjects\\\\shellex\\\\ContextMenuHandlers\\\\CopyToFolder\", \"\", \n",
    "         winreg.REG_SZ, \"{C2FBB630-2971-11D1-A18C-00C04FD75D13}\")\n"
   ]
  },
  {
   "cell_type": "code",
   "execution_count": 37,
   "id": "53c8ee6d",
   "metadata": {},
   "outputs": [],
   "source": [
    "## Create-Registry-Keys\n",
    "try:\n",
    "    key = winreg.CreateKey(HCLR, r\"Allfilesystemobjects\\\\shellex\\\\ContextMenuHandlers\\\\MoveToFolder\")\n",
    "except Exception as e:\n",
    "    print(e)"
   ]
  },
  {
   "cell_type": "code",
   "execution_count": 48,
   "id": "cea940b6",
   "metadata": {},
   "outputs": [
    {
     "data": {
      "text/plain": [
       "True"
      ]
     },
     "execution_count": 48,
     "metadata": {},
     "output_type": "execute_result"
    }
   ],
   "source": [
    "## right-click: Copy to Folder\n",
    "save_reg(HCLR, r\"Allfilesystemobjects\\\\shellex\\\\ContextMenuHandlers\\\\MoveToFolder\", \"\", \n",
    "         winreg.REG_SZ, \"{C2FBB631-2971-11D1-A18C-00C04FD75D13}\")\n"
   ]
  },
  {
   "cell_type": "markdown",
   "id": "b0c46624",
   "metadata": {},
   "source": [
    "## Remove 3D Objects"
   ]
  },
  {
   "cell_type": "code",
   "execution_count": 40,
   "id": "cd95994d",
   "metadata": {},
   "outputs": [],
   "source": [
    "winreg.DeleteKey(HKLM, r\"SOFTWARE\\\\Wow6432Node\\\\Microsoft\\\\Windows\\\\CurrentVersion\\\\Explorer\\\\MyComputer\\\\NameSpace\\\\{0DB7E03F-FC29-4DC6-9020-FF41B59E513A}\")"
   ]
  },
  {
   "cell_type": "code",
   "execution_count": 41,
   "id": "246437f6",
   "metadata": {
    "scrolled": true
   },
   "outputs": [
    {
     "ename": "FileNotFoundError",
     "evalue": "[WinError 2] The system cannot find the file specified",
     "output_type": "error",
     "traceback": [
      "\u001b[1;31m---------------------------------------------------------------------------\u001b[0m",
      "\u001b[1;31mFileNotFoundError\u001b[0m                         Traceback (most recent call last)",
      "Input \u001b[1;32mIn [41]\u001b[0m, in \u001b[0;36m<cell line: 1>\u001b[1;34m()\u001b[0m\n\u001b[1;32m----> 1\u001b[0m \u001b[43mwinreg\u001b[49m\u001b[38;5;241;43m.\u001b[39;49m\u001b[43mDeleteKey\u001b[49m\u001b[43m(\u001b[49m\u001b[43mHKLM\u001b[49m\u001b[43m,\u001b[49m\u001b[43m \u001b[49m\u001b[38;5;124;43mr\u001b[39;49m\u001b[38;5;124;43m\"\u001b[39;49m\u001b[38;5;124;43mSOFTWARE\u001b[39;49m\u001b[38;5;130;43;01m\\\\\u001b[39;49;00m\u001b[38;5;124;43mMicrosoft\u001b[39;49m\u001b[38;5;130;43;01m\\\\\u001b[39;49;00m\u001b[38;5;124;43mWindows\u001b[39;49m\u001b[38;5;130;43;01m\\\\\u001b[39;49;00m\u001b[38;5;124;43mCurrentVersion\u001b[39;49m\u001b[38;5;130;43;01m\\\\\u001b[39;49;00m\u001b[38;5;124;43mExplorer\u001b[39;49m\u001b[38;5;130;43;01m\\\\\u001b[39;49;00m\u001b[38;5;124;43mMyComputer\u001b[39;49m\u001b[38;5;130;43;01m\\\\\u001b[39;49;00m\u001b[38;5;124;43mNameSpace\u001b[39;49m\u001b[38;5;130;43;01m\\\\\u001b[39;49;00m\u001b[38;5;124;43m{\u001b[39;49m\u001b[38;5;124;43m0DB7E03F-FC29-4DC6-9020-FF41B59E513A}\u001b[39;49m\u001b[38;5;124;43m\"\u001b[39;49m\u001b[43m)\u001b[49m\n",
      "\u001b[1;31mFileNotFoundError\u001b[0m: [WinError 2] The system cannot find the file specified"
     ]
    }
   ],
   "source": [
    "winreg.DeleteKey(HKLM, r\"SOFTWARE\\\\Microsoft\\\\Windows\\\\CurrentVersion\\\\Explorer\\\\MyComputer\\\\NameSpace\\\\{0DB7E03F-FC29-4DC6-9020-FF41B59E513A}\")"
   ]
  },
  {
   "cell_type": "markdown",
   "id": "818aaf0b",
   "metadata": {},
   "source": [
    "## Take Ownership"
   ]
  },
  {
   "cell_type": "code",
   "execution_count": 37,
   "id": "9a8561c8",
   "metadata": {},
   "outputs": [],
   "source": [
    "## Create-Registry-Keys\n",
    "try:\n",
    "    key1 = winreg.CreateKey(HCLR, r\"*\\\\shell\\\\runas\")\n",
    "    key2 = winreg.CreateKey(HCLR, r\"*\\\\shell\\\\runas\\\\command\")\n",
    "except Exception as e:\n",
    "    print(e)"
   ]
  },
  {
   "cell_type": "code",
   "execution_count": 44,
   "id": "2f2dbd02",
   "metadata": {},
   "outputs": [
    {
     "data": {
      "text/plain": [
       "True"
      ]
     },
     "execution_count": 44,
     "metadata": {},
     "output_type": "execute_result"
    }
   ],
   "source": [
    "## right-click: Take Ownership\n",
    "save_reg(HCLR, r\"*\\\\shell\\\\runas\", \"\", winreg.REG_SZ, \"Take Ownership\")\n",
    "save_reg(HCLR, r\"*\\\\shell\\\\runas\", \"NoWorkingDirectory\", winreg.REG_SZ, \"\")\n",
    "save_reg(HCLR, r\"*\\\\shell\\\\runas\\\\command\", \"\",\n",
    "         winreg.REG_SZ, \"cmd.exe /c takeown /f \\\"%1\\\" && icacls \\\"%1\\\" /grant administrators:F\")\n",
    "save_reg(HCLR, r\"*\\\\shell\\\\runas\\\\command\", \"IsolatedCommand\",\n",
    "         winreg.REG_SZ, \"cmd.exe /c takeown /f \\\"%1\\\" && icacls \\\"%1\\\" /grant administrators:F\")\n"
   ]
  },
  {
   "cell_type": "code",
   "execution_count": 45,
   "id": "df17dec6",
   "metadata": {},
   "outputs": [],
   "source": [
    "## Create-Registry-Keys\n",
    "try:\n",
    "    key1 = winreg.CreateKey(HCLR, r\"Directory\\\\shell\\\\runas\")\n",
    "    key2 = winreg.CreateKey(HCLR, r\"Directory\\\\shell\\\\runas\\\\command\")\n",
    "except Exception as e:\n",
    "    print(e)"
   ]
  },
  {
   "cell_type": "code",
   "execution_count": 46,
   "id": "700ac9c6",
   "metadata": {},
   "outputs": [
    {
     "data": {
      "text/plain": [
       "True"
      ]
     },
     "execution_count": 46,
     "metadata": {},
     "output_type": "execute_result"
    }
   ],
   "source": [
    "## right-click: Take Ownership\n",
    "save_reg(HCLR, r\"Directory\\\\shell\\\\runas\", \"\", winreg.REG_SZ, \"Take Ownership\")\n",
    "save_reg(HCLR, r\"Directory\\\\shell\\\\runas\", \"NoWorkingDirectory\", winreg.REG_SZ, \"\")\n",
    "save_reg(HCLR, r\"Directory\\\\shell\\\\runas\\\\command\", \"\",\n",
    "         winreg.REG_SZ, \"cmd.exe /c takeown /f \\\"%1\\\" && icacls \\\"%1\\\" /grant administrators:F\")\n",
    "save_reg(HCLR, r\"Directory\\\\shell\\\\runas\\\\command\", \"IsolatedCommand\",\n",
    "         winreg.REG_SZ, \"cmd.exe /c takeown /f \\\"%1\\\" && icacls \\\"%1\\\" /grant administrators:F\")\n"
   ]
  },
  {
   "cell_type": "markdown",
   "id": "304d8c0c",
   "metadata": {},
   "source": [
    "## Pin To Start"
   ]
  },
  {
   "cell_type": "code",
   "execution_count": 7,
   "id": "f952f436",
   "metadata": {},
   "outputs": [],
   "source": [
    "## Create-Registry-Keys\n",
    "try:\n",
    "    key1 = winreg.CreateKey(HCLR, r\"AllFileSystemObjects\\\\shellex\\\\ContextMenuHandlers\\\\{470C0EBD-5D73-4d58-9CED-E91E22E23282}\")\n",
    "except Exception as e:\n",
    "    print(e)"
   ]
  },
  {
   "cell_type": "code",
   "execution_count": 8,
   "id": "065d7acd",
   "metadata": {},
   "outputs": [
    {
     "data": {
      "text/plain": [
       "True"
      ]
     },
     "execution_count": 8,
     "metadata": {},
     "output_type": "execute_result"
    }
   ],
   "source": [
    "## Pin to Start Menu\n",
    "save_reg(HCLR, r\"AllFileSystemObjects\\\\shellex\\\\ContextMenuHandlers\\\\{470C0EBD-5D73-4d58-9CED-E91E22E23282}\", \"\",\n",
    "         winreg.REG_SZ, \"Pin to Start\")\n"
   ]
  },
  {
   "cell_type": "code",
   "execution_count": 13,
   "id": "d0f39afc",
   "metadata": {},
   "outputs": [
    {
     "name": "stdout",
     "output_type": "stream",
     "text": [
      "[WinError 2] The system cannot find the file specified\n"
     ]
    }
   ],
   "source": [
    "## try to delete the key if it exists\n",
    "try: \n",
    "    with winreg.OpenKey(HKLM, r\"SOFTWARE\\\\Policies\\\\Microsoft\\\\Windows\\\\Explorer\", access=winreg.KEY_WRITE) as reg:\n",
    "        winreg.DeleteValue(reg, \"LockedStartLayout\")\n",
    "except Exception as e:\n",
    "    print(e)\n",
    "    "
   ]
  },
  {
   "cell_type": "code",
   "execution_count": 11,
   "id": "1bfc7b99",
   "metadata": {},
   "outputs": [
    {
     "name": "stdout",
     "output_type": "stream",
     "text": [
      "[WinError 2] The system cannot find the file specified\n"
     ]
    }
   ],
   "source": [
    "## try to delete the key if it exists\n",
    "try: \n",
    "    with winreg.OpenKey(HKCU, r\"SOFTWARE\\\\Policies\\\\Microsoft\\\\Windows\\\\Explorer\", access=winreg.KEY_WRITE) as reg:\n",
    "        winreg.DeleteValue(reg, \"LockedStartLayout\")\n",
    "except Exception as e:\n",
    "    print(e)"
   ]
  },
  {
   "cell_type": "markdown",
   "id": "a39cd1c1",
   "metadata": {},
   "source": [
    "## ________________"
   ]
  },
  {
   "cell_type": "code",
   "execution_count": null,
   "id": "be5c8773",
   "metadata": {},
   "outputs": [],
   "source": []
  },
  {
   "cell_type": "code",
   "execution_count": 25,
   "id": "dbbed7fb",
   "metadata": {},
   "outputs": [
    {
     "name": "stdout",
     "output_type": "stream",
     "text": [
      "[WinError 2] The system cannot find the file specified\n"
     ]
    }
   ],
   "source": [
    "read_reg(HKCU, r\"SOFTWARE\\\\Microsoft\\\\Windows\\\\CurrentVersion\\\\Explorer\\\\Serialize\", \"StartupDelayInMSec\")\n"
   ]
  },
  {
   "cell_type": "code",
   "execution_count": 25,
   "id": "cd1d1a5a",
   "metadata": {},
   "outputs": [
    {
     "name": "stdout",
     "output_type": "stream",
     "text": [
      "[WinError 2] The system cannot find the file specified\n"
     ]
    }
   ],
   "source": [
    "read_reg(HKCU, r\"SOFTWARE\\\\Microsoft\\\\Windows\\\\CurrentVersion\\\\Explorer\\\\Serialize\", \"StartupDelayInMSec\")\n"
   ]
  },
  {
   "cell_type": "code",
   "execution_count": 28,
   "id": "98a713ff",
   "metadata": {},
   "outputs": [
    {
     "data": {
      "text/plain": [
       "True"
      ]
     },
     "execution_count": 28,
     "metadata": {},
     "output_type": "execute_result"
    }
   ],
   "source": [
    "'''\n",
    "Reference: https://www.maketecheasier.com/disable-startup-delay-in-windows/\n",
    "Add “SizReqBuf” as a DWORD value on the right side of the regedit window. If you have a server with \n",
    "    over 512 MB of physical memory, modify the value to 17424. \n",
    "'''\n",
    "## IrpStackSize --> 50 (dword:00000014)\n",
    "save_reg(HKCU, r\"SOFTWARE\\\\Microsoft\\\\Windows\\\\CurrentVersion\\\\Explorer\\\\Serialize\", \"StartupDelayInMSec\", winreg.REG_DWORD, 0)\n"
   ]
  },
  {
   "cell_type": "code",
   "execution_count": 28,
   "id": "87b42dfb",
   "metadata": {},
   "outputs": [
    {
     "data": {
      "text/plain": [
       "True"
      ]
     },
     "execution_count": 28,
     "metadata": {},
     "output_type": "execute_result"
    }
   ],
   "source": [
    "'''\n",
    "Reference: https://www.maketecheasier.com/disable-startup-delay-in-windows/\n",
    "Add “SizReqBuf” as a DWORD value on the right side of the regedit window. If you have a server with \n",
    "    over 512 MB of physical memory, modify the value to 17424. \n",
    "'''\n",
    "## IrpStackSize --> 50 (dword:00000014)\n",
    "save_reg(HKCU, r\"SOFTWARE\\\\Microsoft\\\\Windows\\\\CurrentVersion\\\\Explorer\\\\Serialize\", \"StartupDelayInMSec\", winreg.REG_DWORD, 0)\n"
   ]
  },
  {
   "cell_type": "code",
   "execution_count": 28,
   "id": "c4cc23fa",
   "metadata": {},
   "outputs": [
    {
     "data": {
      "text/plain": [
       "True"
      ]
     },
     "execution_count": 28,
     "metadata": {},
     "output_type": "execute_result"
    }
   ],
   "source": [
    "'''\n",
    "Reference: https://www.maketecheasier.com/disable-startup-delay-in-windows/\n",
    "Add “SizReqBuf” as a DWORD value on the right side of the regedit window. If you have a server with \n",
    "    over 512 MB of physical memory, modify the value to 17424. \n",
    "'''\n",
    "## IrpStackSize --> 50 (dword:00000014)\n",
    "save_reg(HKCU, r\"SOFTWARE\\\\Microsoft\\\\Windows\\\\CurrentVersion\\\\Explorer\\\\Serialize\", \"StartupDelayInMSec\", winreg.REG_DWORD, 0)\n"
   ]
  },
  {
   "cell_type": "code",
   "execution_count": null,
   "id": "fc66f2a3",
   "metadata": {},
   "outputs": [],
   "source": []
  }
 ],
 "metadata": {
  "kernelspec": {
   "display_name": "Python 3 (ipykernel)",
   "language": "python",
   "name": "python3"
  },
  "language_info": {
   "codemirror_mode": {
    "name": "ipython",
    "version": 3
   },
   "file_extension": ".py",
   "mimetype": "text/x-python",
   "name": "python",
   "nbconvert_exporter": "python",
   "pygments_lexer": "ipython3",
   "version": "3.10.5"
  }
 },
 "nbformat": 4,
 "nbformat_minor": 5
}
